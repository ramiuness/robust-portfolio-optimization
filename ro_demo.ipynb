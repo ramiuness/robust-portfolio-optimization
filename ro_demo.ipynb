{
 "cells": [
  {
   "cell_type": "markdown",
   "metadata": {},
   "source": [
    "# Import the robust portfolio optimization library "
   ]
  },
  {
   "cell_type": "code",
   "execution_count": 2,
   "metadata": {},
   "outputs": [],
   "source": [
    "include(\"PortfolioModels.jl\");\n",
    "include(\"PortfolioMetrics.jl\");"
   ]
  },
  {
   "cell_type": "markdown",
   "metadata": {},
   "source": [
    "# Load and display the returns series of the Dow-Jones stocks"
   ]
  },
  {
   "cell_type": "code",
   "execution_count": 135,
   "metadata": {},
   "outputs": [
    {
     "name": "stdout",
     "output_type": "stream",
     "text": [
      "\u001b[1mDaily Returns of the Dow-Jones Stocks\u001b[0m\n",
      "┌────────────┬─────────────┬─────────────┬─────────────┬─────────────┬──────────────┬──────────────┬─────────────┬─────────────┬──────────────┬─────────────┬─────────────┬──────────────┬──────────────┬─────────────┬─────────────┬─────────────┬─────────────┬──────────────┬──────────────┬─────────────┬──────────────┬──────────────┬─────────────┬─────────────┬─────────────┬──────────────┬──────────────┬─────────────┬─────────────┬─────────────┐\n",
      "│\u001b[1m       Date \u001b[0m│\u001b[1m        AAPL \u001b[0m│\u001b[1m        AMGN \u001b[0m│\u001b[1m        AMZN \u001b[0m│\u001b[1m         AXP \u001b[0m│\u001b[1m           BA \u001b[0m│\u001b[1m          CAT \u001b[0m│\u001b[1m         CRM \u001b[0m│\u001b[1m        CSCO \u001b[0m│\u001b[1m          CVX \u001b[0m│\u001b[1m         DIS \u001b[0m│\u001b[1m          GS \u001b[0m│\u001b[1m           HD \u001b[0m│\u001b[1m          HON \u001b[0m│\u001b[1m         IBM \u001b[0m│\u001b[1m         JNJ \u001b[0m│\u001b[1m         JPM \u001b[0m│\u001b[1m          KO \u001b[0m│\u001b[1m          MCD \u001b[0m│\u001b[1m          MMM \u001b[0m│\u001b[1m         MRK \u001b[0m│\u001b[1m         MSFT \u001b[0m│\u001b[1m          NKE \u001b[0m│\u001b[1m        NVDA \u001b[0m│\u001b[1m          PG \u001b[0m│\u001b[1m         SHW \u001b[0m│\u001b[1m          TRV \u001b[0m│\u001b[1m          UNH \u001b[0m│\u001b[1m           V \u001b[0m│\u001b[1m          VZ \u001b[0m│\u001b[1m         WMT \u001b[0m│\n",
      "│\u001b[90m       Date \u001b[0m│\u001b[90m     Float64 \u001b[0m│\u001b[90m     Float64 \u001b[0m│\u001b[90m     Float64 \u001b[0m│\u001b[90m     Float64 \u001b[0m│\u001b[90m      Float64 \u001b[0m│\u001b[90m      Float64 \u001b[0m│\u001b[90m     Float64 \u001b[0m│\u001b[90m     Float64 \u001b[0m│\u001b[90m      Float64 \u001b[0m│\u001b[90m     Float64 \u001b[0m│\u001b[90m     Float64 \u001b[0m│\u001b[90m      Float64 \u001b[0m│\u001b[90m      Float64 \u001b[0m│\u001b[90m     Float64 \u001b[0m│\u001b[90m     Float64 \u001b[0m│\u001b[90m     Float64 \u001b[0m│\u001b[90m     Float64 \u001b[0m│\u001b[90m      Float64 \u001b[0m│\u001b[90m      Float64 \u001b[0m│\u001b[90m     Float64 \u001b[0m│\u001b[90m      Float64 \u001b[0m│\u001b[90m      Float64 \u001b[0m│\u001b[90m     Float64 \u001b[0m│\u001b[90m     Float64 \u001b[0m│\u001b[90m     Float64 \u001b[0m│\u001b[90m      Float64 \u001b[0m│\u001b[90m      Float64 \u001b[0m│\u001b[90m     Float64 \u001b[0m│\u001b[90m     Float64 \u001b[0m│\u001b[90m     Float64 \u001b[0m│\n",
      "├────────────┼─────────────┼─────────────┼─────────────┼─────────────┼──────────────┼──────────────┼─────────────┼─────────────┼──────────────┼─────────────┼─────────────┼──────────────┼──────────────┼─────────────┼─────────────┼─────────────┼─────────────┼──────────────┼──────────────┼─────────────┼──────────────┼──────────────┼─────────────┼─────────────┼─────────────┼──────────────┼──────────────┼─────────────┼─────────────┼─────────────┤\n",
      "│ 2024-12-11 │ -0.00516608 │ -0.00848593 │   0.0231959 │ 0.000761349 │    0.0113346 │   0.00123582 │   0.0172869 │ -0.00221391 │   -0.0050318 │ -0.00104598 │   0.0128711 │  -0.00286328 │  -8.73244e-5 │ -0.00690491 │  -0.0173557 │  0.00275878 │ -0.00429185 │   -0.0153303 │          0.0 │  -0.0123762 │     0.012767 │    0.0274954 │   0.0313911 │  -0.0095774 │ 0.000914952 │   -0.0101352 │   -0.0560165 │  0.00451374 │ -0.00732855 │  0.00433635 │\n",
      "│ 2024-12-12 │  0.00596374 │  0.00237736 │ -0.00560233 │  -0.0067474 │    0.0107857 │   -0.0208039 │  0.00896149 │  0.00443759 │  -0.00960246 │  0.00253037 │ -0.00160323 │   -0.0165171 │  -0.00598094 │  0.00929949 │ -0.00272773 │ -0.00821254 │   0.0191571 │   0.00178993 │ -0.000154152 │   0.0150376 │   0.00126953 │   -0.0112872 │  -0.0141411 │  0.00128935 │   -0.013685 │   -0.0051399 │   -0.0333065 │  0.00140222 │  0.00214337 │ -0.00916179 │\n",
      "│ 2024-12-13 │ 0.000685587 │   -0.012552 │ -0.00659473 │   0.0061273 │    0.0113263 │ -0.000709042 │  -0.0103902 │ -0.00390823 │  -0.00542959 │  -0.0135771 │  -0.0103616 │    0.0061773 │ -0.000307468 │ -0.00619989 │   0.0025984 │ -0.00658302 │  -0.0112782 │ -0.000101132 │    0.0013102 │  0.00740746 │  -0.00509389 │  -0.00910722 │  -0.0224989 │   0.0012291 │  -0.0064059 │   0.00992291 │   0.00915149 │  0.00162295 │  0.00475278 │  0.00391986 │\n",
      "│ 2024-12-16 │   0.0117277 │  -0.0152243 │   0.0240481 │  0.00473288 │    0.0207486 │  -0.00417859 │  0.00824141 │ -0.00460594 │   -0.0293104 │  -0.0064693 │  0.00145186 │   -0.0150367 │    0.0368158 │ -0.00645527 │  -0.0188923 │ -0.00150038 │ -0.00903041 │   0.00374236 │  -0.00346365 │  -0.0111672 │   0.00965861 │ -0.000647289 │  -0.0167598 │ 0.000467683 │  0.00145404 │ -0.000121798 │   -0.0422302 │  0.00365389 │  -0.0331125 │  0.00657828 │\n",
      "│ 2024-12-17 │  0.00971958 │ -0.00206374 │ -0.00764178 │ -0.00734595 │ -0.000808451 │    -0.008234 │  -0.0175237 │  0.00291349 │  -0.00836904 │  0.00811699 │  -0.0198694 │  -0.00545395 │    -0.012161 │ -0.00156979 │   0.0177963 │ -0.00509225 │   0.0135892 │  -0.00547514 │   -0.0109678 │         0.0 │   0.00635531 │    0.0103627 │   -0.012197 │ -0.00473295 │ -0.00613646 │   -0.0106794 │   -0.0260381 │  0.00762915 │ -0.00244624 │  0.00579736 │\n",
      "│ 2024-12-18 │  -0.0214218 │    -0.02696 │  -0.0459874 │   -0.044999 │  -0.00236955 │   -0.0316923 │  -0.0380523 │  -0.0169173 │   -0.0272095 │  -0.0147761 │  -0.0425106 │   -0.0358655 │   -0.0268949 │   -0.038433 │   -0.011338 │  -0.0335207 │ -0.00867513 │   -0.0175628 │   -0.0196798 │  -0.0171897 │    -0.037561 │   -0.0141025 │  -0.0113505 │  -0.0073387 │  -0.0389482 │   -0.0312346 │     0.029247 │  -0.0267672 │  -0.0132417 │  -0.0195975 │\n",
      "│ 2024-12-19 │  0.00701468 │  0.00931294 │   0.0125612 │   0.0184168 │    0.0256054 │  -0.00967331 │ -0.00296534 │  0.00173826 │    -0.020336 │ 0.000179652 │  0.00679689 │   -0.0223453 │   8.81789e-5 │   0.0170323 │ -0.00808289 │   0.0112428 │ -0.00636432 │  -0.00223458 │    0.0127459 │   0.0119992 │   -0.0008231 │   0.00260074 │   0.0137304 │ 0.000650583 │  -0.0180118 │   0.00711777 │   -0.0209517 │   0.0164633 │ -0.00670975 │ -0.00160344 │\n",
      "│ 2024-12-20 │   0.0188159 │  0.00838471 │  0.00729995 │   0.0190051 │   0.00175109 │    0.0157339 │   0.0220682 │   0.0154433 │     0.012044 │  0.00592616 │   0.0218596 │    0.0196873 │   0.00634698 │ -0.00250088 │  0.00619863 │   0.0199176 │  0.00160126 │   0.00844152 │    0.0169118 │  -0.0147708 │ -0.000983897 │  -0.00207518 │   0.0307622 │ -0.00667891 │  0.00902505 │    0.0128307 │    0.0222381 │  0.00898751 │ -0.00100077 │  -0.0124197 │\n",
      "│ 2024-12-23 │  0.00306495 │  0.00235399 │ 0.000622441 │  0.00050224 │   0.00191709 │  -0.00177575 │ -0.00218245 │  0.00786054 │  0.000840008 │ -0.00562347 │  0.00826719 │ -0.000382053 │  -0.00516822 │ -0.00640226 │   0.0055375 │  0.00332489 │  -0.0027178 │  -0.00474916 │  -0.00232057 │   0.0134625 │  -0.00309209 │  -0.00233949 │   0.0368968 │ 0.000297531 │ -0.00182362 │   0.00249213 │    0.0124168 │ -0.00154226 │ 0.000250396 │    -0.02049 │\n",
      "│ 2024-12-24 │   0.0114781 │  0.00185602 │   0.0177286 │   0.0155957 │    0.0092858 │   0.00596621 │  0.00446194 │   0.0147507 │   0.00608516 │   0.0104129 │   0.0210413 │   0.00940248 │    0.0077485 │   0.0111747 │  0.00399258 │   0.0164436 │  0.00737414 │   0.00926905 │    0.0106994 │ 0.000805014 │   0.00937389 │  0.000390813 │  0.00393788 │  0.00493725 │   0.0048718 │   0.00629766 │ -0.000473971 │   0.0108127 │ -0.00350524 │   0.0257886 │\n",
      "│ 2024-12-26 │  0.00317574 │ -0.00495292 │ -0.00873172 │  0.00174652 │   0.00579909 │  -0.00122429 │ -0.00786805 │  0.00217211 │  0.000973299 │ -8.87927e-5 │ -0.00267677 │  -0.00252436 │    0.0129314 │  0.00213892 │ -0.00185125 │  0.00342537 │ -0.00429663 │   0.00275519 │   0.00629021 │  0.00422329 │  -0.00277696 │    0.0019534 │ -0.00206824 │  0.00722151 │ -0.00291463 │   0.00349963 │   0.00997824 │ 0.000810883 │   0.0040201 │  0.00118689 │\n",
      "│ 2024-12-27 │   -0.015269 │ -0.00239382 │   -0.017397 │  -0.0124674 │  -0.00066532 │  -0.00896167 │   -0.011486 │  -0.0105868 │ -0.000555645 │    -0.01004 │  -0.0114911 │  -0.00730123 │  -0.00961785 │ -0.00991594 │ -0.00422798 │ -0.00847247 │ -0.00191783 │  -0.00620755 │   -0.0101386 │ -0.00241716 │   -0.0204742 │  -0.00896806 │  -0.0229042 │ -0.00323227 │ -0.00766989 │   -0.0109957 │  -0.00392254 │  -0.0080085 │ -0.00209703 │  -0.0127707 │\n",
      "└────────────┴─────────────┴─────────────┴─────────────┴─────────────┴──────────────┴──────────────┴─────────────┴─────────────┴──────────────┴─────────────┴─────────────┴──────────────┴──────────────┴─────────────┴─────────────┴─────────────┴─────────────┴──────────────┴──────────────┴─────────────┴──────────────┴──────────────┴─────────────┴─────────────┴─────────────┴──────────────┴──────────────┴─────────────┴─────────────┴─────────────┘\n"
     ]
    }
   ],
   "source": [
    "# Read the Dow Jones stock returns data\n",
    "rets_df = CSV.read(path*\"dowj_stock_rets.csv\", DataFrame);\n",
    "\n",
    "# Read the tickers\n",
    "tickers = names(select(rets_df, Not(:Date)));\n",
    "\n",
    "# Read the returns matrix\n",
    "rets = Matrix(select(rets_df, Not(:Date)));\n",
    "\n",
    "# Display a sample of the data\n",
    "pretty_table(last(rets_df, 12), title = \"Daily Returns of the Dow-Jones Stocks\")"
   ]
  },
  {
   "cell_type": "markdown",
   "metadata": {},
   "source": [
    "# Illustrate some portfolio allocation models"
   ]
  },
  {
   "cell_type": "code",
   "execution_count": null,
   "metadata": {},
   "outputs": [],
   "source": [
    "# Compute the optimization parameters\n",
    "mean_rets = mean(rets, dims=1);\n",
    "cov_matrix_rets = cov(rets);"
   ]
  },
  {
   "cell_type": "markdown",
   "metadata": {},
   "source": [
    "### Equally weighted portfolio"
   ]
  },
  {
   "cell_type": "code",
   "execution_count": 87,
   "metadata": {},
   "outputs": [
    {
     "name": "stdout",
     "output_type": "stream",
     "text": [
      "Annualized mean return of the EW portfolio: \n",
      "0.19"
     ]
    }
   ],
   "source": [
    "# Compute the weights of EW portfolio\n",
    "n = size(rets,2)\n",
    "w = ones(n)./n;\n",
    "\n",
    "#Compute the mean return of the EW portfolio\n",
    "ew_ret = dot(w, mean_rets);\n",
    "\n",
    "# Print the mean returns and EW portfolio weights\n",
    "print(\"Annualized mean return of the EW portfolio: \\n\", round((1 + ew_ret)^252-1, digits=2))"
   ]
  },
  {
   "cell_type": "markdown",
   "metadata": {},
   "source": [
    "### Mean-Variance Model\n",
    "\n",
    "\\begin{align*}\n",
    "     \\min_{\\mathbf{w}} &\\quad \\mathbf{w}^\\top \\hat{\\Sigma} \\mathbf{w} \\\\\n",
    "     \\text{s.t.}&\\quad \\mathbf{\\hat{\\mu}^\\top w} \\geq \\mu^*\\\\\n",
    "     &\\quad \\mathbf{1}^\\top \\mathbf{w} = 1\\\\\n",
    "     &\\quad\\mathbf{w} \\geq \\bf 0\n",
    "\\end{align*}\n",
    "\n",
    "\n",
    "- $\\mathbf{w}$: the portfolio allocation weights\n",
    "- $\\hat{\\mu}$: estimated expected return \n",
    "- $\\hat{\\Sigma}$: estimated covariance matrix of the returns\n",
    "- $\\mu^* $: minimum target return level \n"
   ]
  },
  {
   "cell_type": "code",
   "execution_count": null,
   "metadata": {},
   "outputs": [
    {
     "name": "stdout",
     "output_type": "stream",
     "text": [
      "\u001b[1mRecommended Allocation of the MV portfolio:\u001b[0m\n",
      "┌──────┬──────────┐\n",
      "│\u001b[1m      \u001b[0m│\u001b[1m  weights \u001b[0m│\n",
      "├──────┼──────────┤\n",
      "│\u001b[1m AAPL \u001b[0m│ 0.263378 │\n",
      "│\u001b[1m NVDA \u001b[0m│  0.14906 │\n",
      "│\u001b[1m  SHW \u001b[0m│ 0.242564 │\n",
      "│\u001b[1m  WMT \u001b[0m│ 0.344999 │\n",
      "└──────┴──────────┘\n"
     ]
    }
   ],
   "source": [
    "# Set the target return\n",
    "target_ret = 0.001\n",
    "\n",
    "# Compute the minimum variance portfolio weights\n",
    "w, mv_ret, _, _ = compute_mv_weights(mean_rets, cov_matrix_rets, target_ret);\n",
    "\n",
    "# Print the weights of the MV portfolio\n",
    "pretty_table(w[w.!=0], header = [\"weights\"],    \n",
    "            row_names=tickers[(w.!=0) .==1], \n",
    "            title = \"Recommended allocation of the MV portfolio:\")"
   ]
  },
  {
   "cell_type": "code",
   "execution_count": 83,
   "metadata": {},
   "outputs": [
    {
     "name": "stdout",
     "output_type": "stream",
     "text": [
      "Annualiazed mean return of the MV portfolio:\n",
      " 0.29"
     ]
    }
   ],
   "source": [
    "# Print the weights of the MV portfolio\n",
    "print(\"Annualiazed mean return of the MV portfolio:\\n \", round((1 + mv_ret)^252-1, digits=2))"
   ]
  },
  {
   "cell_type": "markdown",
   "metadata": {},
   "source": [
    "### Conditional Value-at-Risk Model\n",
    "\n",
    "\\begin{align*}\n",
    "    \\min_{\\mathbf{w}}& \\quad \\text{CVaR}_{\\beta}(\\mathbf{w})\\\\    \n",
    "    &\\quad \\mathbf{\\hat{\\mu}^\\top w} \\geq \\mu^*\\\\\n",
    "    &\\quad\\mathbf{1}^\\top \\mathbf{w} = 1\\\\\n",
    "    &\\quad \\mathbf{w}\\geq0\n",
    "\\end{align*}\n",
    "\n",
    "- $\\mathbf{w}$: the portfolio allocation weights\n",
    "- $\\hat{\\mu}$: estimated expected return \n",
    "- $\\mu^* $: minimum target return level \n",
    "- $\\beta$: the confidence level\n",
    "\n",
    "\n",
    "where $\\displaystyle \\text{CVaR}_\\beta(\\mathbf{w}):=\\frac{1}{1-\\beta}\\int_{f(\\mathbf{ w, r})\\geq\\alpha_\\beta(\\mathbf{w})}f(\\mathbf{w, r})p(\\mathbf{r})d\\bf r$\n",
    "\n",
    "\n",
    "- $\\bf r$: random assets returns\n",
    "- $p(\\mathbf{r})$: the density function of the returns\n",
    "- $f(\\mathbf{ w, r})$: the portfolio loss function\n",
    "- $\\alpha_\\beta(\\mathbf{w})$: the value at risk $\\text{VaR}_\\beta$ for the portfolio $\\bf w$\n"
   ]
  },
  {
   "cell_type": "code",
   "execution_count": null,
   "metadata": {},
   "outputs": [
    {
     "name": "stdout",
     "output_type": "stream",
     "text": [
      "\u001b[1mRecommended Allocations of the CVaR portfolio:\u001b[0m\n",
      "┌──────┬───────────┐\n",
      "│\u001b[1m      \u001b[0m│\u001b[1m   weights \u001b[0m│\n",
      "├──────┼───────────┤\n",
      "│\u001b[1m AAPL \u001b[0m│  0.202388 │\n",
      "│\u001b[1m AMZN \u001b[0m│  0.149841 │\n",
      "│\u001b[1m NVDA \u001b[0m│  0.516593 │\n",
      "│\u001b[1m  SHW \u001b[0m│  0.119799 │\n",
      "│\u001b[1m  UNH \u001b[0m│ 0.0113786 │\n",
      "└──────┴───────────┘\n"
     ]
    }
   ],
   "source": [
    "# Set the beta for the CVaR portfolio\n",
    "beta = 0.95;\n",
    "\n",
    "# Compute the CVaR portfolio weights\n",
    "target_ret = 0.0015;\n",
    "\n",
    "# Compute the CVaR portfolio weights\n",
    "w, cvar_ret, alpha, _, _ = compute_cvar_weights(rets, mean_rets, beta, target_ret);\n",
    " \n",
    "# Print the weights of the CVaR portfolio\n",
    "pretty_table(w[w.!=0], header = [\"weights\"], \n",
    "             row_names=tickers[(w.!=0) .==1],\n",
    "             title = \"Recommended allocations of the CVaR portfolio:\")"
   ]
  },
  {
   "cell_type": "code",
   "execution_count": 114,
   "metadata": {},
   "outputs": [
    {
     "name": "stdout",
     "output_type": "stream",
     "text": [
      "Annualized mean return of the CVaR portfolio:\n",
      " 0.46"
     ]
    }
   ],
   "source": [
    "# Print the mean return of CVaR portfolio\n",
    "print(\"Annualized mean return of the CVaR portfolio:\\n \", round((1 + cvar_ret)^252-1, digits=2))\n"
   ]
  },
  {
   "cell_type": "markdown",
   "metadata": {},
   "source": [
    "### Omega Ratio Model\n",
    "\n",
    "$$\n",
    "\\begin{matrix}\n",
    "\\displaystyle\n",
    "    \\max &  \\displaystyle\\Omega_\\tau(\\mathbf{w})\\\\\n",
    "    \\text{s. t.}& \\mathbf{1}^\\top\\mathbf{w} = 1\\\\\n",
    "    &\\mathbf{w} \\geq 0 \n",
    "   \\end{matrix}\n",
    "$$\n",
    "\n",
    "- $\\mathbf{ w}$: vector of portfolio weights.\n",
    "\n",
    "- $\\tau$: threshold level that distinguishes gains and losses.\n",
    "\n",
    "\n",
    "where $\\displaystyle\\Omega_\\tau(\\mathbf{w}) = \\frac{\\int_\\tau^{+\\infty}[1-F(r)]dr}{\\int_{-\\infty}^\\tau F(r)dr} \n",
    "$\n",
    "- $\\mathbf{r} $: vector of asset returns.\n",
    "- $F( r)$ is the cumulative distribution function of the portfolio returns\n",
    "\n"
   ]
  },
  {
   "cell_type": "code",
   "execution_count": 132,
   "metadata": {
    "scrolled": true
   },
   "outputs": [
    {
     "name": "stdout",
     "output_type": "stream",
     "text": [
      "\u001b[1mRecommended allocations of the Omega-Ratio portfolio:\u001b[0m\n",
      "┌──────┬────────────┐\n",
      "│\u001b[1m      \u001b[0m│\u001b[1m    weights \u001b[0m│\n",
      "├──────┼────────────┤\n",
      "│\u001b[1m AAPL \u001b[0m│   0.235595 │\n",
      "│\u001b[1m AMZN \u001b[0m│   0.108931 │\n",
      "│\u001b[1m   HD \u001b[0m│   0.059638 │\n",
      "│\u001b[1m NVDA \u001b[0m│   0.278157 │\n",
      "│\u001b[1m  SHW \u001b[0m│   0.125745 │\n",
      "│\u001b[1m  UNH \u001b[0m│   0.142149 │\n",
      "│\u001b[1m    V \u001b[0m│    0.04925 │\n",
      "│\u001b[1m  WMT \u001b[0m│ 0.00053504 │\n",
      "└──────┴────────────┘\n"
     ]
    }
   ],
   "source": [
    "# Set the parameters for the Omega-Ratio portfolio\n",
    "tau = 0.0;\n",
    "delta_range = collect(0.6:0.05:0.85);\n",
    "\n",
    "# Compute the Omega-Ratio portfolio weights\n",
    "delta, w, omega_ret, mean_shortcom, excess_shortcom_tradeoff, output = compute_omega_ratio_weights(rets, mean_rets, tau, delta_range);\n",
    "\n",
    "# Print the weights of the Omega- Ratio portfolio\n",
    "pretty_table(w[w.!=0], header = [\"weights\"], \n",
    "             row_names=tickers[(w.!=0) .==1],\n",
    "              title = \"Recommended allocations of the Omega-Ratio portfolio:\")"
   ]
  },
  {
   "cell_type": "code",
   "execution_count": 133,
   "metadata": {},
   "outputs": [
    {
     "name": "stdout",
     "output_type": "stream",
     "text": [
      "Annualized mean return of the Omega-Ratio portfolio:\n",
      " 0.38"
     ]
    }
   ],
   "source": [
    "# Print the weights of the Omega-Ratio portfolio\n",
    "print(\"Annualized mean return of the Omega-Ratio portfolio:\\n \", round((1 + omega_ret)^252-1, digits=2))"
   ]
  },
  {
   "cell_type": "markdown",
   "metadata": {},
   "source": [
    "# Illustrate some robust optimization models"
   ]
  },
  {
   "cell_type": "markdown",
   "metadata": {},
   "source": [
    "### Mean-Variance with Box-Uncertainty model\n",
    "$$\n",
    "    \\max_{\\mathbf{w}}\\min_{\\mu\\in\\mathcal{U}}\\quad\\mu^\\top\\mathbf{w} - \\delta\\mathbf{w}^\\top\\hat{\\Sigma}\\mathbf{w}\\\\\n",
    "    \\text{s.t. }\\quad \\mathbf{1}^\\top\\mathbf{w}=1\\\\\n",
    "    \\quad\\quad \\mathbf{w}\\geq 0\n",
    "$$\n",
    "\n",
    "\n",
    "- $\\mathbf{w}$: the portfolio allocation weights\n",
    "- $\\mu$: the true mean returns\n",
    "- $\\hat{\\Sigma}$: estimated covariance matrix of the returns\n",
    "- $\\delta$: risk-aversion parameter\n",
    "\n",
    "\n",
    "- $\n",
    "    \\mathcal{U}:= \\{ \\mu \\mid |\\mu - \\hat{\\mu}| \\leq \\varepsilon \\}\n",
    "$ captures the uncertainty in the estimation of the mean\n",
    "\n",
    "- $\\hat{\\mu}$: the estimated mean\n",
    "- $\\varepsilon$: upper bounds on the deviation of each asset’s expected return from its estimated value.  For a $95\\%$ confidence interval around the mean, $\\varepsilon=\\frac{1.96s}{\\sqrt{T}}$, $T$ is the sample size used in the estimation, $s$ represents the estimated standard deviations of the returns\n"
   ]
  },
  {
   "cell_type": "code",
   "execution_count": null,
   "metadata": {
    "scrolled": true
   },
   "outputs": [
    {
     "name": "stdout",
     "output_type": "stream",
     "text": [
      "\u001b[1mRecommended Allocations of the MV-Box model:\u001b[0m\n",
      "┌──────┬───────────┐\n",
      "│\u001b[1m      \u001b[0m│\u001b[1m   weights \u001b[0m│\n",
      "├──────┼───────────┤\n",
      "│\u001b[1m AAPL \u001b[0m│  0.194033 │\n",
      "│\u001b[1m AMZN \u001b[0m│ 0.0924345 │\n",
      "│\u001b[1m   KO \u001b[0m│  0.254527 │\n",
      "│\u001b[1m NVDA \u001b[0m│  0.079742 │\n",
      "│\u001b[1m  WMT \u001b[0m│  0.379263 │\n",
      "└──────┴───────────┘\n"
     ]
    }
   ],
   "source": [
    "# Set model parameters for the MV-Box portfolio\n",
    "alpha = 0.05;\n",
    "target_ret = 0.0008;\n",
    "\n",
    "# Compute the MV-Box portfolio weights\n",
    "w, mvbu_ret, _, _ = compute_mvbu_weights(rets, mean_rets, cov_matrix_rets, target_ret, alpha);\n",
    "\n",
    "# Print the weights of the MV-Box portfolio\n",
    "pretty_table(w[w.!=0], header = [\"weights\"], row_names=tickers[(w.!=0) .==1], title = \"Recommended allocations of the MV-Box model:\")"
   ]
  },
  {
   "cell_type": "code",
   "execution_count": 105,
   "metadata": {},
   "outputs": [
    {
     "name": "stdout",
     "output_type": "stream",
     "text": [
      "Annualized mean return of the MV box-uncertainty model:\n",
      " 0.22"
     ]
    }
   ],
   "source": [
    "# Print the weights of the MV-Box portfolio\n",
    "print(\"Annualized mean return of the MV box-uncertainty model:\\n \", round((1 + mvbu_ret)^252-1, digits=2))"
   ]
  },
  {
   "cell_type": "markdown",
   "metadata": {},
   "source": [
    "## Mean-Variance Ellipsoid Uncertainty\n",
    "\n",
    "$$\n",
    "    \\max_{\\mathbf{w}}\\min_{\\mu\\in\\mathcal{U}}\\quad\\mu^\\top\\mathbf{w} - \\delta\\mathbf{w}^\\top\\Sigma\\mathbf{w}\\\\\n",
    "    \\text{s.t. }\\quad \\mathbf{1}^\\top\\mathbf{w}=1\\\\\n",
    "    \\quad\\quad \\mathbf{w}\\geq 0\\\\\n",
    "$$\n",
    "\n",
    "\n",
    "- $\\mathbf{w}$: the portfolio allocation weights\n",
    "- $\\mu$: the true mean returns\n",
    "- $\\hat{\\Sigma}$: estimated covariance matrix of the returns\n",
    "- $\\delta$: risk-aversion parameter\n",
    "\n",
    "\n",
    "- $\n",
    "    \\mathcal{U} = \\{ \\mu \\mid (\\mu - \\hat{\\mu})^\\top \\Sigma_\\mu^{-1} (\\mu - \\hat{\\mu}) \\leq \\varepsilon^2 \\}\n",
    "$ captures the uncertainty in the estimation of the mean returns\n",
    "\n",
    "- $\\hat{\\mu}$: the estimated mean\n",
    "\n",
    "- $\\Sigma_\\mu$: covariance matrix of the estimation errors in the mean returns\n",
    "- $\\varepsilon$:  $\\alpha$-th percentile of the $\\chi^2$ distribution with $N$ degrees of freedom, $\\alpha$ is the confidence level, $N$ the number of assets"
   ]
  },
  {
   "cell_type": "code",
   "execution_count": 137,
   "metadata": {},
   "outputs": [
    {
     "name": "stdout",
     "output_type": "stream",
     "text": [
      "Set parameter Username\n",
      "Set parameter LicenseID\n",
      "Academic license - for non-commercial use only - expires 2025-11-19\n",
      "\n",
      "\u001b[1mRecommended allocations  of the MV elliptic-uncertainty model:\u001b[0m\n",
      "┌──────┬────────────┐\n",
      "│\u001b[1m      \u001b[0m│\u001b[1m    weights \u001b[0m│\n",
      "├──────┼────────────┤\n",
      "│\u001b[1m AAPL \u001b[0m│  0.0968593 │\n",
      "│\u001b[1m AMGN \u001b[0m│  0.0337127 │\n",
      "│\u001b[1m AMZN \u001b[0m│  0.0886163 │\n",
      "│\u001b[1m  AXP \u001b[0m│  0.0386972 │\n",
      "│\u001b[1m   BA \u001b[0m│  0.0122292 │\n",
      "│\u001b[1m  CAT \u001b[0m│   0.031056 │\n",
      "│\u001b[1m  CRM \u001b[0m│  0.0631099 │\n",
      "│\u001b[1m CSCO \u001b[0m│ 0.00293575 │\n",
      "│\u001b[1m  CVX \u001b[0m│  0.0018772 │\n",
      "│\u001b[1m  DIS \u001b[0m│ 0.00903736 │\n",
      "│\u001b[1m   GS \u001b[0m│  0.0190596 │\n",
      "│\u001b[1m   HD \u001b[0m│     0.0658 │\n",
      "│\u001b[1m  HON \u001b[0m│   0.019965 │\n",
      "│\u001b[1m  JPM \u001b[0m│  0.0376832 │\n",
      "│\u001b[1m  MCD \u001b[0m│  0.0300055 │\n",
      "│\u001b[1m  MRK \u001b[0m│ 0.00396438 │\n",
      "│\u001b[1m MSFT \u001b[0m│  0.0617149 │\n",
      "│\u001b[1m  NKE \u001b[0m│  0.0221313 │\n",
      "│\u001b[1m NVDA \u001b[0m│   0.116529 │\n",
      "│\u001b[1m  SHW \u001b[0m│  0.0682067 │\n",
      "│\u001b[1m  TRV \u001b[0m│  0.0285598 │\n",
      "│\u001b[1m  UNH \u001b[0m│  0.0557642 │\n",
      "│\u001b[1m    V \u001b[0m│   0.068112 │\n",
      "│\u001b[1m  WMT \u001b[0m│  0.0243741 │\n",
      "└──────┴────────────┘\n"
     ]
    }
   ],
   "source": [
    "# Set the model parameters for the MVEU portfolio\n",
    "alpha = 0.95;\n",
    "target_ret = 0.001;\n",
    "\n",
    "# Compute the optimization paramters for the MVEU portfolio\n",
    "std_devs = std(rets, dims=1);\n",
    "cov_matrix_mean_estimation = Diagonal(std_devs[:]);\n",
    "\n",
    "# Compute the MVEU portfolio weights    \n",
    "w, mveu_ret, _ , _ = compute_mveu_weights(mean_rets, cov_matrix_rets, cov_matrix_mean_estimation, target_ret, alpha);\n",
    "\n",
    "# Print the weights of the MV-Box portfolio\n",
    "print('\\n')\n",
    "pretty_table(w[w.>1e-3], header = [\"weights\"], row_names=tickers[(w.>1e-3) .==1], title = \"Recommended allocations  of the MV elliptic-uncertainty model:\")\n"
   ]
  },
  {
   "cell_type": "code",
   "execution_count": 138,
   "metadata": {},
   "outputs": [
    {
     "name": "stdout",
     "output_type": "stream",
     "text": [
      "Annualized mean return of the MV-Box model:\n",
      " 0.29"
     ]
    }
   ],
   "source": [
    "# Print the weights of the MVEU portfolio\n",
    "print(\"Annualized mean return of the MV-Box model:\\n \",  round((1 + mveu_ret)^252-1, digits=2));"
   ]
  },
  {
   "cell_type": "markdown",
   "metadata": {},
   "source": [
    "## Backtesting and Performance"
   ]
  },
  {
   "cell_type": "markdown",
   "metadata": {},
   "source": [
    "The models have been tested over the period spanning 2009-2024. The performance metrics have been averaged over the rolling out-of-sample test windows."
   ]
  },
  {
   "cell_type": "code",
   "execution_count": null,
   "metadata": {
    "scrolled": true
   },
   "outputs": [],
   "source": [
    "rets = rets_df;\n",
    "\n",
    "# Generate the testing data windows\n",
    "testing_data = compute_rolling_test_data(rets, Date(\"2009-01-01\"), Date(\"2024-12-30\"));\n",
    "\n",
    "# Collect the performance metrics of running the models on the testing data\n",
    "perf_results_long = innerjoin(evaluate_models_perf(rets, testing_data), \n",
    "                              compute_folios_turnover(testing_data), \n",
    "                              on = [:testing_start, :testing_end, :model]);\n",
    "\n",
    "# Generate the reporting on the results\n",
    "perf_summary = compute_perf_summary(perf_results_long);"
   ]
  },
  {
   "cell_type": "markdown",
   "metadata": {},
   "source": [
    "### Results for the porfolios composition metrics \n",
    "\n"
   ]
  },
  {
   "cell_type": "code",
   "execution_count": null,
   "metadata": {},
   "outputs": [
    {
     "name": "stdout",
     "output_type": "stream",
     "text": [
      "\u001b[1mComposition of the different portfolio models\u001b[0m\n",
      "┌────────────────┬──────────┬──────────┬──────────┬───────────┬──────────┐\n",
      "│\u001b[1m                \u001b[0m│\u001b[1m    Omega \u001b[0m│\u001b[1m     CVaR \u001b[0m│\u001b[1m       MV \u001b[0m│\u001b[1m      MVEU \u001b[0m│\u001b[1m     MVBU \u001b[0m│\n",
      "│\u001b[1m                \u001b[0m│\u001b[90m  Float64 \u001b[0m│\u001b[90m  Float64 \u001b[0m│\u001b[90m  Float64 \u001b[0m│\u001b[90m   Float64 \u001b[0m│\u001b[90m  Float64 \u001b[0m│\n",
      "├────────────────┼──────────┼──────────┼──────────┼───────────┼──────────┤\n",
      "│\u001b[1m Mean Holding # \u001b[0m│  5.37288 │  8.83051 │  1.30508 │      30.0 │  1.32203 │\n",
      "│\u001b[1m      HHI index \u001b[0m│ 0.354548 │ 0.219771 │ 0.939582 │  0.035874 │ 0.922519 │\n",
      "│\u001b[1m       Turnover \u001b[0m│     1.27 │  1.38387 │ 0.544523 │ 0.0417387 │ 0.651105 │\n",
      "└────────────────┴──────────┴──────────┴──────────┴───────────┴──────────┘\n"
     ]
    }
   ],
   "source": [
    "# Print the portfolio composition metrics in a pretty table format\n",
    "pretty_table(last(select(perf_summary, Not(:Metric)),3), \n",
    "                    row_names= [\"Mean Holding #\", \"HHI index\", \"Turnover\"], \n",
    "                    title = \"Composition of the different portfolio models\");"
   ]
  },
  {
   "cell_type": "markdown",
   "metadata": {},
   "source": [
    "### Results for the porfolios performance metrics \n"
   ]
  },
  {
   "cell_type": "code",
   "execution_count": 127,
   "metadata": {},
   "outputs": [
    {
     "name": "stdout",
     "output_type": "stream",
     "text": [
      "\u001b[1mPortfolios Performance Summary: the values are the averages over the rolling out-of-sample tests\u001b[0m\n",
      "┌──────────────────┬──────────────┬──────────────┬──────────────┬──────────────┬──────────────┐\n",
      "│\u001b[1m                  \u001b[0m│\u001b[1m        Omega \u001b[0m│\u001b[1m         CVaR \u001b[0m│\u001b[1m           MV \u001b[0m│\u001b[1m         MVEU \u001b[0m│\u001b[1m         MVBU \u001b[0m│\n",
      "│\u001b[1m                  \u001b[0m│\u001b[90m      Float64 \u001b[0m│\u001b[90m      Float64 \u001b[0m│\u001b[90m      Float64 \u001b[0m│\u001b[90m      Float64 \u001b[0m│\u001b[90m      Float64 \u001b[0m│\n",
      "├──────────────────┼──────────────┼──────────────┼──────────────┼──────────────┼──────────────┤\n",
      "│\u001b[1m     Daily Return \u001b[0m│  0.000779847 │  0.000442004 │    0.0003581 │  0.000640242 │  0.000383941 │\n",
      "│\u001b[1m Daily Volatility \u001b[0m│    0.0129703 │     0.007702 │   0.00974963 │   0.00867521 │   0.00963383 │\n",
      "│\u001b[1m     Sharpe Ratio \u001b[0m│    0.0857052 │     0.080967 │    0.0482553 │     0.107808 │    0.0495658 │\n",
      "│\u001b[1m             CVaR \u001b[0m│ -0.000632922 │ -0.000364857 │ -0.000662713 │ -0.000259815 │ -0.000626994 │\n",
      "│\u001b[1m      Omega-Ratio \u001b[0m│      1.32283 │      1.33128 │      1.21028 │      1.42119 │      1.20709 │\n",
      "│\u001b[1m    Sortino Ratio \u001b[0m│     0.139726 │     0.142721 │    0.0975246 │     0.181408 │    0.0981606 │\n",
      "└──────────────────┴──────────────┴──────────────┴──────────────┴──────────────┴──────────────┘\n"
     ]
    }
   ],
   "source": [
    "# Display the results for the composition of the portfolios\n",
    "pretty_table(select(first(perf_summary,6), Not(:Metric)), \n",
    "                row_names=[\"Daily Return\", \"Daily Volatility\", \"Sharpe Ratio\", \"CVaR\", \"Omega-Ratio\", \"Sortino Ratio\"],\n",
    "                 title = \"Portfolios Performance Summary: the values are the averages over the rolling out-of-sample tests\");"
   ]
  },
  {
   "cell_type": "code",
   "execution_count": null,
   "metadata": {},
   "outputs": [],
   "source": []
  }
 ],
 "metadata": {
  "kernelspec": {
   "display_name": "Julia 1.11.1",
   "language": "julia",
   "name": "julia-1.11"
  },
  "language_info": {
   "file_extension": ".jl",
   "mimetype": "application/julia",
   "name": "julia",
   "version": "1.11.1"
  }
 },
 "nbformat": 4,
 "nbformat_minor": 4
}
