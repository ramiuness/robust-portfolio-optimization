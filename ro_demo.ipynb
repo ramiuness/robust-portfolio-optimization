{
 "cells": [
  {
   "cell_type": "markdown",
   "metadata": {},
   "source": [
    "# Import the robust portfolio optimization library "
   ]
  },
  {
   "cell_type": "code",
   "execution_count": 2,
   "metadata": {},
   "outputs": [],
   "source": [
    "include(\"PortfolioModels.jl\");\n",
    "include(\"PortfolioMetrics.jl\");"
   ]
  },
  {
   "cell_type": "markdown",
   "metadata": {},
   "source": [
    "# Load the returns series of the Dow-Jones stocks"
   ]
  },
  {
   "cell_type": "code",
   "execution_count": null,
   "metadata": {},
   "outputs": [],
   "source": [
    "# Read the Dow Jones stock returns data\n",
    "rets_df = CSV.read(path*\"dowj_stock_rets.csv\", DataFrame);\n",
    "\n",
    "# Read the tickers\n",
    "tickers = names(select(rets_df, Not(:Date)));\n",
    "\n",
    "# Read the returns matrix\n",
    "rets = Matrix(select(rets_df, Not(:Date)));"
   ]
  },
  {
   "cell_type": "markdown",
   "metadata": {},
   "source": [
    "# Illustrate some portfolio allocation models"
   ]
  },
  {
   "cell_type": "code",
   "execution_count": null,
   "metadata": {},
   "outputs": [],
   "source": [
    "# Compute the optimization parameters\n",
    "mean_rets = mean(rets, dims=1);\n",
    "cov_matrix_rets = cov(rets);"
   ]
  },
  {
   "cell_type": "markdown",
   "metadata": {},
   "source": [
    "### Equally weighted portfolio"
   ]
  },
  {
   "cell_type": "code",
   "execution_count": 87,
   "metadata": {},
   "outputs": [
    {
     "name": "stdout",
     "output_type": "stream",
     "text": [
      "Annualized mean return of the EW portfolio: \n",
      "0.19"
     ]
    }
   ],
   "source": [
    "# Compute the weights of EW portfolio\n",
    "n = size(rets,2)\n",
    "w = ones(n)./n;\n",
    "\n",
    "#Compute the mean return of the EW portfolio\n",
    "ew_ret = dot(w, mean_rets);\n",
    "\n",
    "# Print the mean returns and EW portfolio weights\n",
    "print(\"Annualized mean return of the EW portfolio: \\n\", round((1 + ew_ret)^252-1, digits=2))"
   ]
  },
  {
   "cell_type": "markdown",
   "metadata": {},
   "source": [
    "### Mean-Variance Model\n",
    "\n",
    "\\begin{align*}\n",
    "     \\min_{\\mathbf{w}} &\\quad \\mathbf{w}^\\top \\hat{\\Sigma} \\mathbf{w} \\\\\n",
    "     \\text{ s.t.}&\\quad \\mathbf{\\hat{\\mu}^\\top w} \\geq \\mu^*\\\\\n",
    "     &\\quad \\mathbf{1}^\\top \\mathbf{w} = 1\\\\\n",
    "     &\\quad\\mathbf{w} \\geq \\bf 0\n",
    "\\end{align*}\n",
    "\n",
    "\n",
    "- $\\mathbf{w}$: the portfolio allocation weights\n",
    "- $\\hat{\\mu}$: estimated expected return \n",
    "- $\\hat{\\Sigma}$: estimated covariance matrix of the returns\n",
    "- $\\mu^* $: minimum target return level \n"
   ]
  },
  {
   "cell_type": "code",
   "execution_count": null,
   "metadata": {},
   "outputs": [
    {
     "name": "stdout",
     "output_type": "stream",
     "text": [
      "\u001b[1mRecommended Allocation of the MV portfolio:\u001b[0m\n",
      "┌──────┬──────────┐\n",
      "│\u001b[1m      \u001b[0m│\u001b[1m  weights \u001b[0m│\n",
      "├──────┼──────────┤\n",
      "│\u001b[1m AAPL \u001b[0m│ 0.263378 │\n",
      "│\u001b[1m NVDA \u001b[0m│  0.14906 │\n",
      "│\u001b[1m  SHW \u001b[0m│ 0.242564 │\n",
      "│\u001b[1m  WMT \u001b[0m│ 0.344999 │\n",
      "└──────┴──────────┘\n"
     ]
    }
   ],
   "source": [
    "# Set the target return\n",
    "target_ret = 0.001\n",
    "\n",
    "# Compute the minimum variance portfolio weights\n",
    "w, mv_ret, _, _ = compute_mv_weights(mean_rets, cov_matrix_rets, target_ret);\n",
    "\n",
    "# Print the weights of the MV portfolio\n",
    "pretty_table(w[w.!=0], header = [\"weights\"],    \n",
    "            row_names=tickers[(w.!=0) .==1], \n",
    "            title = \"Recommended allocation of the MV portfolio:\")"
   ]
  },
  {
   "cell_type": "code",
   "execution_count": 83,
   "metadata": {},
   "outputs": [
    {
     "name": "stdout",
     "output_type": "stream",
     "text": [
      "Annualiazed mean return of the MV portfolio:\n",
      " 0.29"
     ]
    }
   ],
   "source": [
    "# Print the weights of the MV portfolio\n",
    "print(\"Annualiazed mean return of the MV portfolio:\\n \", round((1 + mv_ret)^252-1, digits=2))"
   ]
  },
  {
   "cell_type": "markdown",
   "metadata": {},
   "source": [
    "### Conditional Value-at-Risk Model\n",
    "\n",
    "\\begin{align*}\n",
    "    \\min_{\\mathbf{w}}& \\quad \\text{CVaR}_{\\beta}(\\mathbf{w})\\\\    \n",
    "    &\\quad \\mathbf{\\hat{\\mu}^\\top w} \\geq \\mu^*\\\\\n",
    "    &\\quad\\mathbf{1}^\\top \\mathbf{w} = 1\\\\\n",
    "    &\\quad \\mathbf{w}\\geq0\n",
    "\\end{align*}\n",
    "\n",
    "- $\\mathbf{w}$: the portfolio allocation weights\n",
    "- $\\hat{\\mu}$: estimated expected return \n",
    "- $\\mu^* $: minimum target return level \n",
    "- $\\beta$: the confidence level\n",
    "\n",
    "\n",
    "where $\\displaystyle \\text{CVaR}_\\beta(\\mathbf{w}):=\\frac{1}{1-\\beta}\\int_{f(\\mathbf{ w, r})\\geq\\alpha_\\beta(\\mathbf{w})}f(\\mathbf{w, r})p(\\mathbf{r})d\\bf r$\n",
    "\n",
    "\n",
    "- $\\bf r$: random assets returns\n",
    "- $p(\\mathbf{r})$: the density function of the returns\n",
    "- $f(\\mathbf{ w, r})$: the portfolio loss function\n",
    "- $\\alpha_\\beta(\\mathbf{w})$: the value at risk $\\text{VaR}_\\beta$ for the portfolio $\\bf w$\n"
   ]
  },
  {
   "cell_type": "code",
   "execution_count": null,
   "metadata": {},
   "outputs": [
    {
     "name": "stdout",
     "output_type": "stream",
     "text": [
      "\u001b[1mRecommended Allocations of the CVaR portfolio:\u001b[0m\n",
      "┌──────┬───────────┐\n",
      "│\u001b[1m      \u001b[0m│\u001b[1m   weights \u001b[0m│\n",
      "├──────┼───────────┤\n",
      "│\u001b[1m AAPL \u001b[0m│  0.202388 │\n",
      "│\u001b[1m AMZN \u001b[0m│  0.149841 │\n",
      "│\u001b[1m NVDA \u001b[0m│  0.516593 │\n",
      "│\u001b[1m  SHW \u001b[0m│  0.119799 │\n",
      "│\u001b[1m  UNH \u001b[0m│ 0.0113786 │\n",
      "└──────┴───────────┘\n"
     ]
    }
   ],
   "source": [
    "# Set the beta for the CVaR portfolio\n",
    "beta = 0.95;\n",
    "\n",
    "# Compute the CVaR portfolio weights\n",
    "target_ret = 0.0015;\n",
    "\n",
    "# Compute the CVaR portfolio weights\n",
    "w, cvar_ret, alpha, _, _ = compute_cvar_weights(rets, mean_rets, beta, target_ret);\n",
    " \n",
    "# Print the weights of the CVaR portfolio\n",
    "pretty_table(w[w.!=0], header = [\"weights\"], \n",
    "             row_names=tickers[(w.!=0) .==1],\n",
    "             title = \"Recommended allocations of the CVaR portfolio:\")"
   ]
  },
  {
   "cell_type": "code",
   "execution_count": 114,
   "metadata": {},
   "outputs": [
    {
     "name": "stdout",
     "output_type": "stream",
     "text": [
      "Annualized mean return of the CVaR portfolio:\n",
      " 0.46"
     ]
    }
   ],
   "source": [
    "# Print the mean return of CVaR portfolio\n",
    "print(\"Annualized mean return of the CVaR portfolio:\\n \", round((1 + cvar_ret)^252-1, digits=2))\n"
   ]
  },
  {
   "cell_type": "markdown",
   "metadata": {},
   "source": [
    "### Omega Ratio Model\n",
    "\n",
    "$$\n",
    "\\begin{matrix}\n",
    "\\displaystyle\n",
    "    \\max &  \\displaystyle\\Omega_\\tau(\\mathbf{w})\\\\\n",
    "    \\text{s. t.}& \\mathbf{1}^\\top\\mathbf{w} = 1\\\\\n",
    "    &\\mathbf{w} \\geq 0 \n",
    "   \\end{matrix}\n",
    "$$\n",
    "\n",
    "- $\\mathbf{ w}$: vector of portfolio weights.\n",
    "\n",
    "- $\\tau$: threshold level that distinguishes gains and losses.\n",
    "\n",
    "\n",
    "where $\\displaystyle\\Omega_\\tau(\\mathbf{w}) = \\frac{\\int_\\tau^{+\\infty}[1-F(r)]dr}{\\int_{-\\infty}^\\tau F(r)dr} \n",
    "$\n",
    "- $\\mathbf{r} $: vector of asset returns.\n",
    "- $F( r)$ is the cumulative distribution function of the portfolio returns\n",
    "\n"
   ]
  },
  {
   "cell_type": "code",
   "execution_count": 132,
   "metadata": {
    "scrolled": true
   },
   "outputs": [
    {
     "name": "stdout",
     "output_type": "stream",
     "text": [
      "\u001b[1mRecommended allocations of the Omega-Ratio portfolio:\u001b[0m\n",
      "┌──────┬────────────┐\n",
      "│\u001b[1m      \u001b[0m│\u001b[1m    weights \u001b[0m│\n",
      "├──────┼────────────┤\n",
      "│\u001b[1m AAPL \u001b[0m│   0.235595 │\n",
      "│\u001b[1m AMZN \u001b[0m│   0.108931 │\n",
      "│\u001b[1m   HD \u001b[0m│   0.059638 │\n",
      "│\u001b[1m NVDA \u001b[0m│   0.278157 │\n",
      "│\u001b[1m  SHW \u001b[0m│   0.125745 │\n",
      "│\u001b[1m  UNH \u001b[0m│   0.142149 │\n",
      "│\u001b[1m    V \u001b[0m│    0.04925 │\n",
      "│\u001b[1m  WMT \u001b[0m│ 0.00053504 │\n",
      "└──────┴────────────┘\n"
     ]
    }
   ],
   "source": [
    "# Set the parameters for the Omega-Ratio portfolio\n",
    "tau = 0.0;\n",
    "delta_range = collect(0.6:0.05:0.85);\n",
    "\n",
    "# Compute the Omega-Ratio portfolio weights\n",
    "delta, w, omega_ret, mean_shortcom, excess_shortcom_tradeoff, output = compute_omega_ratio_weights(rets, mean_rets, tau, delta_range);\n",
    "\n",
    "# Print the weights of the Omega- Ratio portfolio\n",
    "pretty_table(w[w.!=0], header = [\"weights\"], \n",
    "             row_names=tickers[(w.!=0) .==1],\n",
    "              title = \"Recommended allocations of the Omega-Ratio portfolio:\")"
   ]
  },
  {
   "cell_type": "code",
   "execution_count": 133,
   "metadata": {},
   "outputs": [
    {
     "name": "stdout",
     "output_type": "stream",
     "text": [
      "Annualized mean return of the Omega-Ratio portfolio:\n",
      " 0.38"
     ]
    }
   ],
   "source": [
    "# Print the weights of the Omega-Ratio portfolio\n",
    "print(\"Annualized mean return of the Omega-Ratio portfolio:\\n \", round((1 + omega_ret)^252-1, digits=2))"
   ]
  },
  {
   "cell_type": "markdown",
   "metadata": {},
   "source": [
    "# Illustrate some robust optimization models"
   ]
  },
  {
   "cell_type": "markdown",
   "metadata": {},
   "source": [
    "### Mean-Variance with Box-Uncertainty model\n",
    " \n",
    "$$\n",
    "\\displaystyle\n",
    "\\begin{matrix}\n",
    "    \\max_{\\mathbf{w}}\\min_{\\mu\\in\\mathcal{U}}&\\quad\\mu^\\top\\mathbf{w} - \\delta\\mathbf{w}^\\top\\hat{\\Sigma}\\mathbf{w}\\\\\n",
    "    \\text{s.t. }&\\quad \\mathbf{1}^\\top\\mathbf{w}=1\\\\\n",
    "    &\\quad\\quad \\mathbf{w}\\geq 0\n",
    "\\end{matrix}\n",
    "$$\n",
    "\n",
    "\n",
    "- $\\mathbf{w}$: the portfolio allocation weights\n",
    "- $\\mu$: the true mean returns\n",
    "- $\\hat{\\Sigma}$: estimated covariance matrix of the returns\n",
    "- $\\delta$: risk-aversion parameter\n",
    "\n",
    "\n",
    "- $\n",
    "    \\mathcal{U}:= \\{ \\mu \\mid |\\mu - \\hat{\\mu}| \\leq \\varepsilon \\}\n",
    "$ captures the uncertainty in the estimation of the mean\n",
    "\n",
    "- $\\hat{\\mu}$: the estimated mean\n",
    "- $\\varepsilon$: upper bounds on the deviation of each asset’s expected return from its estimated value.  For a $95\\%$ confidence interval around the mean, $\\varepsilon=\\frac{1.96s}{\\sqrt{T}}$, $T$ is the sample size used in the estimation, $s$ represents the estimated standard deviations of the returns\n"
   ]
  },
  {
   "cell_type": "code",
   "execution_count": null,
   "metadata": {
    "scrolled": true
   },
   "outputs": [
    {
     "name": "stdout",
     "output_type": "stream",
     "text": [
      "\u001b[1mRecommended Allocations of the MV-Box model:\u001b[0m\n",
      "┌──────┬───────────┐\n",
      "│\u001b[1m      \u001b[0m│\u001b[1m   weights \u001b[0m│\n",
      "├──────┼───────────┤\n",
      "│\u001b[1m AAPL \u001b[0m│  0.194033 │\n",
      "│\u001b[1m AMZN \u001b[0m│ 0.0924345 │\n",
      "│\u001b[1m   KO \u001b[0m│  0.254527 │\n",
      "│\u001b[1m NVDA \u001b[0m│  0.079742 │\n",
      "│\u001b[1m  WMT \u001b[0m│  0.379263 │\n",
      "└──────┴───────────┘\n"
     ]
    }
   ],
   "source": [
    "# Set model parameters for the MV-Box portfolio\n",
    "alpha = 0.05;\n",
    "target_ret = 0.0008;\n",
    "\n",
    "# Compute the MV-Box portfolio weights\n",
    "w, mvbu_ret, _, _ = compute_mvbu_weights(rets, mean_rets, cov_matrix_rets, target_ret, alpha);\n",
    "\n",
    "# Print the weights of the MV-Box portfolio\n",
    "pretty_table(w[w.!=0], header = [\"weights\"], row_names=tickers[(w.!=0) .==1], title = \"Recommended allocations of the MV-Box model:\")"
   ]
  },
  {
   "cell_type": "code",
   "execution_count": 105,
   "metadata": {},
   "outputs": [
    {
     "name": "stdout",
     "output_type": "stream",
     "text": [
      "Annualized mean return of the MV box-uncertainty model:\n",
      " 0.22"
     ]
    }
   ],
   "source": [
    "# Print the weights of the MV-Box portfolio\n",
    "print(\"Annualized mean return of the MV box-uncertainty model:\\n \", round((1 + mvbu_ret)^252-1, digits=2))"
   ]
  },
  {
   "cell_type": "markdown",
   "metadata": {},
   "source": [
    "## Mean-Variance Ellipsoid Uncertainty\n",
    "\n",
    "$$\n",
    "\\begin{matrix}\n",
    "    \\max_{\\mathbf{w}}\\min_{\\mu\\in\\mathcal{U}}&\\quad\\mu^\\top\\mathbf{w} - \\delta\\mathbf{w}^\\top\\Sigma\\mathbf{w}\\\\\n",
    "    \\text{s.t. }&\\quad \\mathbf{1}^\\top\\mathbf{w}=1\\\\\n",
    "    &\\quad\\quad \\mathbf{w}\\geq 0\n",
    "\\end{matrix}\n",
    "$$\n",
    "\n",
    "\n",
    "- $\\mathbf{w}$: the portfolio allocation weights\n",
    "- $\\mu$: the true mean returns\n",
    "- $\\hat{\\Sigma}$: estimated covariance matrix of the returns\n",
    "- $\\delta$: risk-aversion parameter\n",
    "\n",
    "\n",
    "- $\n",
    "    \\mathcal{U} = \\{ \\mu \\mid (\\mu - \\hat{\\mu})^\\top \\Sigma_\\mu^{-1} (\\mu - \\hat{\\mu}) \\leq \\varepsilon^2 \\}\n",
    "$ captures the uncertainty in the estimation of the mean returns\n",
    "\n",
    "- $\\hat{\\mu}$: the estimated mean\n",
    "\n",
    "- $\\Sigma_\\mu$: covariance matrix of the estimation errors in the mean returns\n",
    "- $\\varepsilon$:  $\\alpha$-th percentile of the $\\chi^2$ distribution with $N$ degrees of freedom, $\\alpha$ is the confidence level, $N$ the number of assets"
   ]
  },
  {
   "cell_type": "code",
   "execution_count": 137,
   "metadata": {},
   "outputs": [
    {
     "name": "stdout",
     "output_type": "stream",
     "text": [
      "Set parameter Username\n",
      "Set parameter LicenseID\n",
      "Academic license - for non-commercial use only - expires 2025-11-19\n",
      "\n",
      "\u001b[1mRecommended allocations  of the MV elliptic-uncertainty model:\u001b[0m\n",
      "┌──────┬────────────┐\n",
      "│\u001b[1m      \u001b[0m│\u001b[1m    weights \u001b[0m│\n",
      "├──────┼────────────┤\n",
      "│\u001b[1m AAPL \u001b[0m│  0.0968593 │\n",
      "│\u001b[1m AMGN \u001b[0m│  0.0337127 │\n",
      "│\u001b[1m AMZN \u001b[0m│  0.0886163 │\n",
      "│\u001b[1m  AXP \u001b[0m│  0.0386972 │\n",
      "│\u001b[1m   BA \u001b[0m│  0.0122292 │\n",
      "│\u001b[1m  CAT \u001b[0m│   0.031056 │\n",
      "│\u001b[1m  CRM \u001b[0m│  0.0631099 │\n",
      "│\u001b[1m CSCO \u001b[0m│ 0.00293575 │\n",
      "│\u001b[1m  CVX \u001b[0m│  0.0018772 │\n",
      "│\u001b[1m  DIS \u001b[0m│ 0.00903736 │\n",
      "│\u001b[1m   GS \u001b[0m│  0.0190596 │\n",
      "│\u001b[1m   HD \u001b[0m│     0.0658 │\n",
      "│\u001b[1m  HON \u001b[0m│   0.019965 │\n",
      "│\u001b[1m  JPM \u001b[0m│  0.0376832 │\n",
      "│\u001b[1m  MCD \u001b[0m│  0.0300055 │\n",
      "│\u001b[1m  MRK \u001b[0m│ 0.00396438 │\n",
      "│\u001b[1m MSFT \u001b[0m│  0.0617149 │\n",
      "│\u001b[1m  NKE \u001b[0m│  0.0221313 │\n",
      "│\u001b[1m NVDA \u001b[0m│   0.116529 │\n",
      "│\u001b[1m  SHW \u001b[0m│  0.0682067 │\n",
      "│\u001b[1m  TRV \u001b[0m│  0.0285598 │\n",
      "│\u001b[1m  UNH \u001b[0m│  0.0557642 │\n",
      "│\u001b[1m    V \u001b[0m│   0.068112 │\n",
      "│\u001b[1m  WMT \u001b[0m│  0.0243741 │\n",
      "└──────┴────────────┘\n"
     ]
    }
   ],
   "source": [
    "# Set the model parameters for the MVEU portfolio\n",
    "alpha = 0.95;\n",
    "target_ret = 0.001;\n",
    "\n",
    "# Compute the optimization paramters for the MVEU portfolio\n",
    "std_devs = std(rets, dims=1);\n",
    "cov_matrix_mean_estimation = Diagonal(std_devs[:]);\n",
    "\n",
    "# Compute the MVEU portfolio weights    \n",
    "w, mveu_ret, _ , _ = compute_mveu_weights(mean_rets, cov_matrix_rets, cov_matrix_mean_estimation, target_ret, alpha);\n",
    "\n",
    "# Print the weights of the MV-Box portfolio\n",
    "print('\\n')\n",
    "pretty_table(w[w.>1e-3], header = [\"weights\"], row_names=tickers[(w.>1e-3) .==1], title = \"Recommended allocations  of the MV elliptic-uncertainty model:\")\n"
   ]
  },
  {
   "cell_type": "code",
   "execution_count": 138,
   "metadata": {},
   "outputs": [
    {
     "name": "stdout",
     "output_type": "stream",
     "text": [
      "Annualized mean return of the MV-Box model:\n",
      " 0.29"
     ]
    }
   ],
   "source": [
    "# Print the weights of the MVEU portfolio\n",
    "print(\"Annualized mean return of the MV-Box model:\\n \",  round((1 + mveu_ret)^252-1, digits=2));"
   ]
  },
  {
   "cell_type": "markdown",
   "metadata": {},
   "source": [
    "## Backtesting and Performance"
   ]
  },
  {
   "cell_type": "markdown",
   "metadata": {},
   "source": [
    "The models have been tested over the period spanning 2009-2024. The performance metrics have been averaged over the rolling out-of-sample test windows."
   ]
  },
  {
   "cell_type": "code",
   "execution_count": null,
   "metadata": {
    "scrolled": true
   },
   "outputs": [],
   "source": [
    "rets = rets_df;\n",
    "\n",
    "# Generate the testing data windows\n",
    "testing_data = compute_rolling_test_data(rets, Date(\"2009-01-01\"), Date(\"2024-12-30\"));\n",
    "\n",
    "# Collect the performance metrics of running the models on the testing data\n",
    "perf_results_long = innerjoin(evaluate_models_perf(rets, testing_data), \n",
    "                              compute_folios_turnover(testing_data), \n",
    "                              on = [:testing_start, :testing_end, :model]);\n",
    "\n",
    "# Generate the reporting on the results\n",
    "perf_summary = compute_perf_summary(perf_results_long);"
   ]
  },
  {
   "cell_type": "markdown",
   "metadata": {},
   "source": [
    "### Results for the porfolios composition metrics \n",
    "\n"
   ]
  },
  {
   "cell_type": "code",
   "execution_count": null,
   "metadata": {},
   "outputs": [
    {
     "name": "stdout",
     "output_type": "stream",
     "text": [
      "\u001b[1mComposition of the different portfolio models\u001b[0m\n",
      "┌────────────────┬──────────┬──────────┬──────────┬───────────┬──────────┐\n",
      "│\u001b[1m                \u001b[0m│\u001b[1m    Omega \u001b[0m│\u001b[1m     CVaR \u001b[0m│\u001b[1m       MV \u001b[0m│\u001b[1m      MVEU \u001b[0m│\u001b[1m     MVBU \u001b[0m│\n",
      "│\u001b[1m                \u001b[0m│\u001b[90m  Float64 \u001b[0m│\u001b[90m  Float64 \u001b[0m│\u001b[90m  Float64 \u001b[0m│\u001b[90m   Float64 \u001b[0m│\u001b[90m  Float64 \u001b[0m│\n",
      "├────────────────┼──────────┼──────────┼──────────┼───────────┼──────────┤\n",
      "│\u001b[1m Mean Holding # \u001b[0m│  5.37288 │  8.83051 │  1.30508 │      30.0 │  1.32203 │\n",
      "│\u001b[1m      HHI index \u001b[0m│ 0.354548 │ 0.219771 │ 0.939582 │  0.035874 │ 0.922519 │\n",
      "│\u001b[1m       Turnover \u001b[0m│     1.27 │  1.38387 │ 0.544523 │ 0.0417387 │ 0.651105 │\n",
      "└────────────────┴──────────┴──────────┴──────────┴───────────┴──────────┘\n"
     ]
    }
   ],
   "source": [
    "# Print the portfolio composition metrics in a pretty table format\n",
    "pretty_table(last(select(perf_summary, Not(:Metric)),3), \n",
    "                    row_names= [\"Mean Holding #\", \"HHI index\", \"Turnover\"], \n",
    "                    title = \"Composition of the different portfolio models\");"
   ]
  },
  {
   "cell_type": "markdown",
   "metadata": {},
   "source": [
    "### Results for the porfolios performance metrics \n"
   ]
  },
  {
   "cell_type": "code",
   "execution_count": 127,
   "metadata": {},
   "outputs": [
    {
     "name": "stdout",
     "output_type": "stream",
     "text": [
      "\u001b[1mPortfolios Performance Summary: the values are the averages over the rolling out-of-sample tests\u001b[0m\n",
      "┌──────────────────┬──────────────┬──────────────┬──────────────┬──────────────┬──────────────┐\n",
      "│\u001b[1m                  \u001b[0m│\u001b[1m        Omega \u001b[0m│\u001b[1m         CVaR \u001b[0m│\u001b[1m           MV \u001b[0m│\u001b[1m         MVEU \u001b[0m│\u001b[1m         MVBU \u001b[0m│\n",
      "│\u001b[1m                  \u001b[0m│\u001b[90m      Float64 \u001b[0m│\u001b[90m      Float64 \u001b[0m│\u001b[90m      Float64 \u001b[0m│\u001b[90m      Float64 \u001b[0m│\u001b[90m      Float64 \u001b[0m│\n",
      "├──────────────────┼──────────────┼──────────────┼──────────────┼──────────────┼──────────────┤\n",
      "│\u001b[1m     Daily Return \u001b[0m│  0.000779847 │  0.000442004 │    0.0003581 │  0.000640242 │  0.000383941 │\n",
      "│\u001b[1m Daily Volatility \u001b[0m│    0.0129703 │     0.007702 │   0.00974963 │   0.00867521 │   0.00963383 │\n",
      "│\u001b[1m     Sharpe Ratio \u001b[0m│    0.0857052 │     0.080967 │    0.0482553 │     0.107808 │    0.0495658 │\n",
      "│\u001b[1m             CVaR \u001b[0m│ -0.000632922 │ -0.000364857 │ -0.000662713 │ -0.000259815 │ -0.000626994 │\n",
      "│\u001b[1m      Omega-Ratio \u001b[0m│      1.32283 │      1.33128 │      1.21028 │      1.42119 │      1.20709 │\n",
      "│\u001b[1m    Sortino Ratio \u001b[0m│     0.139726 │     0.142721 │    0.0975246 │     0.181408 │    0.0981606 │\n",
      "└──────────────────┴──────────────┴──────────────┴──────────────┴──────────────┴──────────────┘\n"
     ]
    }
   ],
   "source": [
    "# Display the results for the composition of the portfolios\n",
    "pretty_table(select(first(perf_summary,6), Not(:Metric)), \n",
    "                row_names=[\"Daily Return\", \"Daily Volatility\", \"Sharpe Ratio\", \"CVaR\", \"Omega-Ratio\", \"Sortino Ratio\"],\n",
    "                 title = \"Portfolios Performance Summary: the values are the averages over the rolling out-of-sample tests\");"
   ]
  },
  {
   "cell_type": "code",
   "execution_count": null,
   "metadata": {},
   "outputs": [],
   "source": []
  }
 ],
 "metadata": {
  "kernelspec": {
   "display_name": "Julia 1.11.1",
   "language": "julia",
   "name": "julia-1.11"
  },
  "language_info": {
   "file_extension": ".jl",
   "mimetype": "application/julia",
   "name": "julia",
   "version": "1.11.1"
  }
 },
 "nbformat": 4,
 "nbformat_minor": 4
}
